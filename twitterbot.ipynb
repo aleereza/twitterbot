{
 "cells": [
  {
   "cell_type": "markdown",
   "metadata": {},
   "source": [
    "# Twitterbot"
   ]
  },
  {
   "cell_type": "markdown",
   "metadata": {},
   "source": [
    "Here I am going to create a Twitter Bot step by step."
   ]
  },
  {
   "cell_type": "markdown",
   "metadata": {},
   "source": [
    "First I should create a Twitter application on https://dev.twitter.com/"
   ]
  },
  {
   "cell_type": "markdown",
   "metadata": {},
   "source": [
    "Install tweepy: #pip install tweepy"
   ]
  },
  {
   "cell_type": "code",
   "execution_count": 27,
   "metadata": {
    "collapsed": true
   },
   "outputs": [],
   "source": [
    "import tweepy\n",
    "import time\n",
    "import sys"
   ]
  },
  {
   "cell_type": "code",
   "execution_count": 4,
   "metadata": {},
   "outputs": [
    {
     "data": {
      "text/plain": [
       "'-f'"
      ]
     },
     "execution_count": 4,
     "metadata": {},
     "output_type": "execute_result"
    }
   ],
   "source": [
    "sys.argv[1]"
   ]
  },
  {
   "cell_type": "markdown",
   "metadata": {},
   "source": [
    "Twitter application information:"
   ]
  },
  {
   "cell_type": "code",
   "execution_count": 28,
   "metadata": {
    "collapsed": true
   },
   "outputs": [],
   "source": [
    "#connected to @deepnue\n",
    "CONSUMER_KEY = 'SLnqCUas6QfknKnav9TqZYlGw'\n",
    "CONSUMER_SECRET = 'Q35MEHKKL8OwuQi3zKK13rJF7Q36vHNNQFaUe1n1lCLWzV920P'\n",
    "ACCESS_KEY = '874773938856841216-mTAPKb8qGZJVwRAtaAQfp8GZWRXPV1u'\n",
    "ACCESS_SECRET = 'yq1GbXWRv7ZYlJpPlVVep9p9qqubjtMmporaS38mn4LK1'"
   ]
  },
  {
   "cell_type": "code",
   "execution_count": 34,
   "metadata": {},
   "outputs": [],
   "source": [
    "auth = tweepy.OAuthHandler(CONSUMER_KEY, CONSUMER_SECRET)\n",
    "auth.set_access_token(ACCESS_KEY, ACCESS_SECRET)\n",
    "\n",
    "api = tweepy.API(auth)"
   ]
  },
  {
   "cell_type": "code",
   "execution_count": 35,
   "metadata": {
    "collapsed": true
   },
   "outputs": [],
   "source": [
    "#Error handling\n",
    "if (not api):\n",
    "    print (\"Problem connecting to API\")"
   ]
  },
  {
   "cell_type": "markdown",
   "metadata": {},
   "source": [
    "# Search Parameters"
   ]
  },
  {
   "cell_type": "markdown",
   "metadata": {},
   "source": [
    "q: the search query string\n",
    "lang: Restricts tweets to the given language, given by an ISO 639-1 code. (fa for persian)\n",
    "locale: Specify the language of the query you are sending. This is intended for language-specific clients and the default should work in the majority of cases."
   ]
  },
  {
   "cell_type": "code",
   "execution_count": 36,
   "metadata": {},
   "outputs": [],
   "source": [
    "# In this example, the handler is time.sleep(15 * 60),\n",
    "# but you can of course handle it in any way you want.\n",
    "\n",
    "def limit_handled(c):\n",
    "    while True:\n",
    "        try:\n",
    "            yield c.next()\n",
    "        except tweepy.RateLimitError:\n",
    "            time.sleep(15 * 60)"
   ]
  },
  {
   "cell_type": "code",
   "execution_count": 44,
   "metadata": {
    "scrolled": true
   },
   "outputs": [
    {
     "name": "stdout",
     "output_type": "stream",
     "text": [
      "Zarajoinedtwitr 757494375458934784 en 1338\n",
      "QSMxero 744522551305482240 fa 420\n",
      "DonyaNS90 2352247399 fa 1887\n",
      "noorshid 598485445 en 712\n",
      "BeManCheAkhe 875130923192340481 en 0\n",
      "Survival_confli 2731962623 ar 5152\n",
      "MO_Handes 1364242915 en 1031\n",
      "pooya_2000 864591143643881473 en 62\n",
      "msadegh122 2478900341 en 7887\n",
      "msrlogic 867790797567033344 fa 76\n",
      "fata13571122 816709377516306439 en 196\n",
      "mar_mar_ii 725287159 en 1924\n",
      "Gothamkido 4870585977 en 308\n",
      "saeed_mrd 869613130866982912 en 197\n",
      "Fatom2083943720 864123444899794945 ar 6441\n",
      "TanveerMasoodDK 3499051875 da 5747\n",
      "Paris_aaaa 263889352 en 1162\n",
      "MaxShadd 225120372 en 2932\n",
      "manutd_news2013 323360262 en 1971\n",
      "MentalCity 766903943263838208 en 331\n"
     ]
    },
    {
     "name": "stderr",
     "output_type": "stream",
     "text": [
      "/home/alireza/anaconda3/lib/python3.6/site-packages/ipykernel_launcher.py:1: DeprecationWarning: generator 'limit_handled' raised StopIteration\n",
      "  \"\"\"Entry point for launching an IPython kernel.\n"
     ]
    }
   ],
   "source": [
    "for t in limit_handled(tweepy.Cursor(api.search,q=\"*\",lang=\"fa\").items(20)):\n",
    "    u=t.user\n",
    "    print (u.screen_name,u.id, u.lang, u.followers_count)"
   ]
  }
 ],
 "metadata": {
  "kernelspec": {
   "display_name": "Python 3",
   "language": "python",
   "name": "python3"
  },
  "language_info": {
   "codemirror_mode": {
    "name": "ipython",
    "version": 3
   },
   "file_extension": ".py",
   "mimetype": "text/x-python",
   "name": "python",
   "nbconvert_exporter": "python",
   "pygments_lexer": "ipython3",
   "version": "3.6.1"
  }
 },
 "nbformat": 4,
 "nbformat_minor": 2
}
